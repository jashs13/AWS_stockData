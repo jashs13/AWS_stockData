{
 "cells": [
  {
   "cell_type": "code",
   "execution_count": null,
   "id": "c57c0789",
   "metadata": {},
   "outputs": [],
   "source": [
    "from kafka import KafkaConsumer\n",
    "from time import sleep\n",
    "from json import dumps,loads\n",
    "import json\n",
    "from s3fs import S3FileSystem\n",
    "import boto3\n",
    "from botocore.exceptions import NoCredentialsError"
   ]
  },
  {
   "cell_type": "code",
   "execution_count": null,
   "id": "8ab515af",
   "metadata": {},
   "outputs": [],
   "source": [
    "s3_client = boto3.client('s3', aws_access_key_id='<<aws_access_key_id>>', aws_secret_access_key='<<aws_secret_access_key>>')\n",
    "bucket_name = 'kafka-cloud-comp-project'"
   ]
  },
  {
   "cell_type": "code",
   "execution_count": null,
   "id": "18e8f36f",
   "metadata": {},
   "outputs": [],
   "source": [
    "s3 = S3FileSystem()"
   ]
  },
  {
   "cell_type": "code",
   "execution_count": null,
   "id": "33579707",
   "metadata": {},
   "outputs": [],
   "source": [
    "consumer = KafkaConsumer(\n",
    "    'demo_test',\n",
    "     bootstrap_servers=['<<Public IP>>'], #add your IP here\n",
    "    value_deserializer=lambda x: loads(x.decode('utf-8')))"
   ]
  },
  {
   "cell_type": "code",
   "execution_count": null,
   "id": "b77a7a2e",
   "metadata": {},
   "outputs": [],
   "source": [
    "#pass values in producer and check here\n",
    "for count, i in enumerate(consumer):\n",
    "    print(count)\n",
    "    print(i.value)"
   ]
  },
  {
   "cell_type": "code",
   "execution_count": null,
   "id": "76b2a1d0",
   "metadata": {},
   "outputs": [],
   "source": [
    "# Stream data into S3 buckets\n",
    "for count, message in enumerate(consumer):\n",
    "    # Check if message.value is a dictionary\n",
    "    if isinstance(message.value, dict):\n",
    "        # It's already a dictionary, no need to decode\n",
    "        json_data = message.value\n",
    "    else:\n",
    "        # If it's not a dictionary, decode and load it as JSON\n",
    "        json_data = json.loads(message.value.decode('utf-8'))\n",
    "\n",
    "    # Prepare the file key for S3\n",
    "    file_key = f\"stock_market_{count}.json\"\n",
    "\n",
    "    # Convert JSON data to string\n",
    "    json_string = json.dumps(json_data)\n",
    "\n",
    "    # Try to upload the file to S3\n",
    "    try:\n",
    "        s3_client.put_object(Body=json_string, Bucket=bucket_name, Key=file_key)\n",
    "        print(f\"Upload of {file_key} Successful\")\n",
    "    except NoCredentialsError:\n",
    "        print(\"Credentials not available\")"
   ]
  }
 ],
 "metadata": {
  "kernelspec": {
   "display_name": "Python 3 (ipykernel)",
   "language": "python",
   "name": "python3"
  },
  "language_info": {
   "codemirror_mode": {
    "name": "ipython",
    "version": 3
   },
   "file_extension": ".py",
   "mimetype": "text/x-python",
   "name": "python",
   "nbconvert_exporter": "python",
   "pygments_lexer": "ipython3",
   "version": "3.10.9"
  }
 },
 "nbformat": 4,
 "nbformat_minor": 5
}
