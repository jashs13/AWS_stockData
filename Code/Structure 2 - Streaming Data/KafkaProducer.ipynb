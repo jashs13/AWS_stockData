{
 "cells": [
  {
   "cell_type": "code",
   "execution_count": null,
   "id": "84371c3e",
   "metadata": {},
   "outputs": [],
   "source": [
    "pip install kafka-python"
   ]
  },
  {
   "cell_type": "code",
   "execution_count": null,
   "id": "f9090d64",
   "metadata": {},
   "outputs": [],
   "source": [
    "import pandas as pd\n",
    "from kafka import KafkaProducer\n",
    "from time import sleep\n",
    "from json import dumps\n",
    "import json\n",
    "from datetime import datetime, timedelta"
   ]
  },
  {
   "cell_type": "code",
   "execution_count": null,
   "id": "b81928c6",
   "metadata": {},
   "outputs": [],
   "source": [
    "#Add latest public ip here\n",
    "producer = KafkaProducer(bootstrap_servers=['<<IP>>'],\n",
    "                         value_serializer=lambda x: \n",
    "                         dumps(x).encode('utf-8'))"
   ]
  },
  {
   "cell_type": "code",
   "execution_count": null,
   "id": "b6865e39",
   "metadata": {},
   "outputs": [],
   "source": [
    "df = pd.read_csv(\"folder/FAANG.csv\")"
   ]
  },
  {
   "cell_type": "code",
   "execution_count": null,
   "id": "7a56d06d",
   "metadata": {},
   "outputs": [],
   "source": [
    "#data cleaning\n",
    "df['Date'] = df['Date'].str.replace('0:00 ', '').str.replace(' 0:00', '')\n",
    "df['Date'] = pd.to_datetime(df['Date'])\n",
    "# Sort the DataFrame by date to ensure order\n",
    "df = df.sort_values(by='Date')\n",
    "\n",
    "# Group by the 'Date' column\n",
    "grouped = df.groupby('Date')"
   ]
  },
  {
   "cell_type": "code",
   "execution_count": null,
   "id": "ef14f981",
   "metadata": {},
   "outputs": [],
   "source": [
    "# Sending data incrementally\n",
    "for index, row in df.iterrows():\n",
    "    # Convert row to a dictionary\n",
    "    dict_stock = row.to_dict()\n",
    "\n",
    "    # Increment the date by one day and update the record\n",
    "    incremented_date = dict_stock['Date'] + timedelta(days=1)\n",
    "    dict_stock['Date'] = incremented_date.strftime('%m/%d/%Y')\n",
    "\n",
    "    # Send the updated record\n",
    "    producer.send('demo_test', value=dict_stock)\n",
    "    sleep(1)"
   ]
  },
  {
   "cell_type": "code",
   "execution_count": null,
   "id": "471d5560",
   "metadata": {},
   "outputs": [],
   "source": [
    "#clear data from kafka server\n",
    "producer.flush() "
   ]
  }
 ],
 "metadata": {
  "kernelspec": {
   "display_name": "Python 3 (ipykernel)",
   "language": "python",
   "name": "python3"
  },
  "language_info": {
   "codemirror_mode": {
    "name": "ipython",
    "version": 3
   },
   "file_extension": ".py",
   "mimetype": "text/x-python",
   "name": "python",
   "nbconvert_exporter": "python",
   "pygments_lexer": "ipython3",
   "version": "3.10.9"
  }
 },
 "nbformat": 4,
 "nbformat_minor": 5
}
