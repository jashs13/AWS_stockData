{
 "cells": [
  {
   "cell_type": "code",
   "execution_count": null,
   "id": "ad52f758",
   "metadata": {},
   "outputs": [],
   "source": [
    "import pandas as pd\n",
    "import yfinance as yf\n",
    "import os"
   ]
  },
  {
   "cell_type": "code",
   "execution_count": null,
   "id": "52e1ce1e",
   "metadata": {},
   "outputs": [],
   "source": [
    "faang_tickers = [\"META\", \"AAPL\", \"AMZN\", \"NFLX\", \"GOOGL\"]"
   ]
  },
  {
   "cell_type": "code",
   "execution_count": null,
   "id": "d9e3aea0",
   "metadata": {},
   "outputs": [],
   "source": [
    "local_file_path = f'path/FAANG/{ticker}.csv'"
   ]
  },
  {
   "cell_type": "code",
   "execution_count": null,
   "id": "b4de0210",
   "metadata": {},
   "outputs": [],
   "source": [
    "def download_and_save_stock_data(ticker, start_date, end_date):\n",
    "    print(f\"Starting download for {ticker}...\")\n",
    "    df = yf.download(ticker, start=start_date, end=end_date, actions=True, group_by='Ticker', auto_adjust=True)\n",
    "    \n",
    "    if df.empty:\n",
    "        print(f\"No data downloaded for {ticker}.\")\n",
    "        return\n",
    "    \n",
    "    df.reset_index(inplace=True)\n",
    "    df['Ticker'] = ticker\n",
    "\n",
    "    close_column = 'Adj_Close' if 'Adj_Close' in df.columns else 'Close'\n",
    "    df = df[['Date', 'Ticker', 'Open', 'High', 'Low', close_column, 'Volume']]\n",
    "\n",
    "    df.rename(columns={close_column: 'Adj_Close'}, inplace=True)\n",
    "\n",
    "    # Append data to a local file\n",
    "    if os.path.exists(local_file_path):\n",
    "        print(f\"File for {ticker} exists. Appending data...\")\n",
    "        existing_df = pd.read_csv(local_file_path)\n",
    "        combined_df = pd.concat([existing_df, df])\n",
    "    else:\n",
    "        print(f\"Creating new file for {ticker}...\")\n",
    "        combined_df = df\n",
    "    combined_df.to_csv(local_file_path, index=False)\n",
    "    print(f\"Completed processing for {ticker}. Data saved to {local_file_path}\")\n"
   ]
  },
  {
   "cell_type": "code",
   "execution_count": null,
   "id": "3f87818f",
   "metadata": {},
   "outputs": [],
   "source": [
    "for ticker in faang_tickers:\n",
    "    download_and_save_stock_data(ticker, '1997-06-01', '2023-12-12')"
   ]
  }
 ],
 "metadata": {
  "kernelspec": {
   "display_name": "Python 3 (ipykernel)",
   "language": "python",
   "name": "python3"
  },
  "language_info": {
   "codemirror_mode": {
    "name": "ipython",
    "version": 3
   },
   "file_extension": ".py",
   "mimetype": "text/x-python",
   "name": "python",
   "nbconvert_exporter": "python",
   "pygments_lexer": "ipython3",
   "version": "3.10.9"
  }
 },
 "nbformat": 4,
 "nbformat_minor": 5
}
